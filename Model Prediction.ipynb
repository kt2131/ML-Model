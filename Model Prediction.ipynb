{
 "cells": [
  {
   "cell_type": "markdown",
   "metadata": {},
   "source": [
    "# Loading Data "
   ]
  },
  {
   "cell_type": "code",
   "execution_count": 1,
   "metadata": {},
   "outputs": [
    {
     "data": {
      "text/html": [
       "<div>\n",
       "<style scoped>\n",
       "    .dataframe tbody tr th:only-of-type {\n",
       "        vertical-align: middle;\n",
       "    }\n",
       "\n",
       "    .dataframe tbody tr th {\n",
       "        vertical-align: top;\n",
       "    }\n",
       "\n",
       "    .dataframe thead th {\n",
       "        text-align: right;\n",
       "    }\n",
       "</style>\n",
       "<table border=\"1\" class=\"dataframe\">\n",
       "  <thead>\n",
       "    <tr style=\"text-align: right;\">\n",
       "      <th></th>\n",
       "      <th>fruit_label</th>\n",
       "      <th>fruit_name</th>\n",
       "      <th>fruit_subtype</th>\n",
       "      <th>mass</th>\n",
       "      <th>width</th>\n",
       "      <th>height</th>\n",
       "      <th>color_score</th>\n",
       "    </tr>\n",
       "  </thead>\n",
       "  <tbody>\n",
       "    <tr>\n",
       "      <th>0</th>\n",
       "      <td>1</td>\n",
       "      <td>apple</td>\n",
       "      <td>granny_smith</td>\n",
       "      <td>192</td>\n",
       "      <td>8.4</td>\n",
       "      <td>7.3</td>\n",
       "      <td>0.55</td>\n",
       "    </tr>\n",
       "    <tr>\n",
       "      <th>1</th>\n",
       "      <td>1</td>\n",
       "      <td>apple</td>\n",
       "      <td>granny_smith</td>\n",
       "      <td>180</td>\n",
       "      <td>8.0</td>\n",
       "      <td>6.8</td>\n",
       "      <td>0.59</td>\n",
       "    </tr>\n",
       "    <tr>\n",
       "      <th>2</th>\n",
       "      <td>1</td>\n",
       "      <td>apple</td>\n",
       "      <td>granny_smith</td>\n",
       "      <td>176</td>\n",
       "      <td>7.4</td>\n",
       "      <td>7.2</td>\n",
       "      <td>0.60</td>\n",
       "    </tr>\n",
       "    <tr>\n",
       "      <th>3</th>\n",
       "      <td>2</td>\n",
       "      <td>mandarin</td>\n",
       "      <td>mandarin</td>\n",
       "      <td>86</td>\n",
       "      <td>6.2</td>\n",
       "      <td>4.7</td>\n",
       "      <td>0.80</td>\n",
       "    </tr>\n",
       "    <tr>\n",
       "      <th>4</th>\n",
       "      <td>2</td>\n",
       "      <td>mandarin</td>\n",
       "      <td>mandarin</td>\n",
       "      <td>84</td>\n",
       "      <td>6.0</td>\n",
       "      <td>4.6</td>\n",
       "      <td>0.79</td>\n",
       "    </tr>\n",
       "  </tbody>\n",
       "</table>\n",
       "</div>"
      ],
      "text/plain": [
       "   fruit_label fruit_name fruit_subtype  mass  width  height  color_score\n",
       "0            1      apple  granny_smith   192    8.4     7.3         0.55\n",
       "1            1      apple  granny_smith   180    8.0     6.8         0.59\n",
       "2            1      apple  granny_smith   176    7.4     7.2         0.60\n",
       "3            2   mandarin      mandarin    86    6.2     4.7         0.80\n",
       "4            2   mandarin      mandarin    84    6.0     4.6         0.79"
      ]
     },
     "execution_count": 1,
     "metadata": {},
     "output_type": "execute_result"
    }
   ],
   "source": [
    "import numpy as np\n",
    "import matplotlib.pyplot as plt\n",
    "import pandas as pd\n",
    "\n",
    "df = pd.read_csv ('fruit.csv')\n",
    "df.head()"
   ]
  },
  {
   "cell_type": "code",
   "execution_count": 2,
   "metadata": {},
   "outputs": [],
   "source": [
    "df.drop(['fruit_subtype'],axis = 1, inplace = True)"
   ]
  },
  {
   "cell_type": "code",
   "execution_count": 3,
   "metadata": {},
   "outputs": [
    {
     "data": {
      "text/html": [
       "<div>\n",
       "<style scoped>\n",
       "    .dataframe tbody tr th:only-of-type {\n",
       "        vertical-align: middle;\n",
       "    }\n",
       "\n",
       "    .dataframe tbody tr th {\n",
       "        vertical-align: top;\n",
       "    }\n",
       "\n",
       "    .dataframe thead th {\n",
       "        text-align: right;\n",
       "    }\n",
       "</style>\n",
       "<table border=\"1\" class=\"dataframe\">\n",
       "  <thead>\n",
       "    <tr style=\"text-align: right;\">\n",
       "      <th></th>\n",
       "      <th>fruit_label</th>\n",
       "      <th>fruit_name</th>\n",
       "      <th>mass</th>\n",
       "      <th>width</th>\n",
       "      <th>height</th>\n",
       "      <th>color_score</th>\n",
       "    </tr>\n",
       "  </thead>\n",
       "  <tbody>\n",
       "    <tr>\n",
       "      <th>0</th>\n",
       "      <td>1</td>\n",
       "      <td>apple</td>\n",
       "      <td>192</td>\n",
       "      <td>8.4</td>\n",
       "      <td>7.3</td>\n",
       "      <td>0.55</td>\n",
       "    </tr>\n",
       "    <tr>\n",
       "      <th>1</th>\n",
       "      <td>1</td>\n",
       "      <td>apple</td>\n",
       "      <td>180</td>\n",
       "      <td>8.0</td>\n",
       "      <td>6.8</td>\n",
       "      <td>0.59</td>\n",
       "    </tr>\n",
       "    <tr>\n",
       "      <th>2</th>\n",
       "      <td>1</td>\n",
       "      <td>apple</td>\n",
       "      <td>176</td>\n",
       "      <td>7.4</td>\n",
       "      <td>7.2</td>\n",
       "      <td>0.60</td>\n",
       "    </tr>\n",
       "    <tr>\n",
       "      <th>3</th>\n",
       "      <td>2</td>\n",
       "      <td>mandarin</td>\n",
       "      <td>86</td>\n",
       "      <td>6.2</td>\n",
       "      <td>4.7</td>\n",
       "      <td>0.80</td>\n",
       "    </tr>\n",
       "    <tr>\n",
       "      <th>4</th>\n",
       "      <td>2</td>\n",
       "      <td>mandarin</td>\n",
       "      <td>84</td>\n",
       "      <td>6.0</td>\n",
       "      <td>4.6</td>\n",
       "      <td>0.79</td>\n",
       "    </tr>\n",
       "  </tbody>\n",
       "</table>\n",
       "</div>"
      ],
      "text/plain": [
       "   fruit_label fruit_name  mass  width  height  color_score\n",
       "0            1      apple   192    8.4     7.3         0.55\n",
       "1            1      apple   180    8.0     6.8         0.59\n",
       "2            1      apple   176    7.4     7.2         0.60\n",
       "3            2   mandarin    86    6.2     4.7         0.80\n",
       "4            2   mandarin    84    6.0     4.6         0.79"
      ]
     },
     "execution_count": 3,
     "metadata": {},
     "output_type": "execute_result"
    }
   ],
   "source": [
    "df.head()"
   ]
  },
  {
   "cell_type": "markdown",
   "metadata": {},
   "source": [
    "Here we will use this data to predict fruit label on the basis of mass, height and color score"
   ]
  },
  {
   "cell_type": "code",
   "execution_count": 4,
   "metadata": {},
   "outputs": [
    {
     "name": "stdout",
     "output_type": "stream",
     "text": [
      "[[192.    8.4   7.3]\n",
      " [180.    8.    6.8]\n",
      " [176.    7.4   7.2]\n",
      " [ 86.    6.2   4.7]\n",
      " [ 84.    6.    4.6]\n",
      " [ 80.    5.8   4.3]\n",
      " [ 80.    5.9   4.3]\n",
      " [ 76.    5.8   4. ]\n",
      " [178.    7.1   7.8]\n",
      " [172.    7.4   7. ]\n",
      " [166.    6.9   7.3]\n",
      " [172.    7.1   7.6]\n",
      " [154.    7.    7.1]\n",
      " [164.    7.3   7.7]\n",
      " [152.    7.6   7.3]\n",
      " [156.    7.7   7.1]\n",
      " [156.    7.6   7.5]\n",
      " [168.    7.5   7.6]\n",
      " [162.    7.5   7.1]\n",
      " [162.    7.4   7.2]\n",
      " [160.    7.5   7.5]\n",
      " [156.    7.4   7.4]\n",
      " [140.    7.3   7.1]\n",
      " [170.    7.6   7.9]\n",
      " [342.    9.    9.4]\n",
      " [356.    9.2   9.2]\n",
      " [362.    9.6   9.2]\n",
      " [204.    7.5   9.2]\n",
      " [140.    6.7   7.1]\n",
      " [160.    7.    7.4]\n",
      " [158.    7.1   7.5]\n",
      " [210.    7.8   8. ]\n",
      " [164.    7.2   7. ]\n",
      " [190.    7.5   8.1]\n",
      " [142.    7.6   7.8]\n",
      " [150.    7.1   7.9]\n",
      " [160.    7.1   7.6]\n",
      " [154.    7.3   7.3]\n",
      " [158.    7.2   7.8]\n",
      " [144.    6.8   7.4]\n",
      " [154.    7.1   7.5]\n",
      " [180.    7.6   8.2]\n",
      " [154.    7.2   7.2]\n",
      " [194.    7.2  10.3]\n",
      " [200.    7.3  10.5]\n",
      " [186.    7.2   9.2]\n",
      " [216.    7.3  10.2]\n",
      " [196.    7.3   9.7]\n",
      " [174.    7.3  10.1]\n",
      " [132.    5.8   8.7]\n",
      " [130.    6.    8.2]\n",
      " [116.    6.    7.5]\n",
      " [118.    5.9   8. ]\n",
      " [120.    6.    8.4]\n",
      " [116.    6.1   8.5]\n",
      " [116.    6.3   7.7]\n",
      " [116.    5.9   8.1]\n",
      " [152.    6.5   8.5]\n",
      " [118.    6.1   8.1]]\n"
     ]
    },
    {
     "data": {
      "text/plain": [
       "array([1, 1, 1, 2, 2, 2, 2, 2, 1, 1, 1, 1, 1, 1, 1, 1, 1, 1, 1, 1, 1, 1,\n",
       "       1, 1, 3, 3, 3, 3, 3, 3, 3, 3, 3, 3, 3, 3, 3, 3, 3, 3, 3, 3, 3, 4,\n",
       "       4, 4, 4, 4, 4, 4, 4, 4, 4, 4, 4, 4, 4, 4, 4], dtype=int64)"
      ]
     },
     "execution_count": 4,
     "metadata": {},
     "output_type": "execute_result"
    }
   ],
   "source": [
    "x = df.iloc [:,2:5].values\n",
    "y = df.iloc [:,0].values\n",
    "print(x)\n",
    "y"
   ]
  },
  {
   "cell_type": "markdown",
   "metadata": {},
   "source": [
    "# Dividing data into train and test"
   ]
  },
  {
   "cell_type": "code",
   "execution_count": 5,
   "metadata": {},
   "outputs": [],
   "source": [
    "from sklearn.model_selection import train_test_split\n",
    "x_train, x_test, y_train, y_test = train_test_split (x, y, test_size = .20,\n",
    "                                                    random_state = 0)"
   ]
  },
  {
   "cell_type": "code",
   "execution_count": 6,
   "metadata": {},
   "outputs": [
    {
     "name": "stdout",
     "output_type": "stream",
     "text": [
      "X train shape (47, 3)\n",
      "Y train shape (47,)\n",
      "X test shape (12, 3)\n",
      "Y test shape (12,)\n"
     ]
    }
   ],
   "source": [
    "print(\"X train shape\", x_train.shape)\n",
    "print(\"Y train shape\", y_train.shape)\n",
    "print(\"X test shape\", x_test.shape)\n",
    "print(\"Y test shape\", y_test.shape)"
   ]
  },
  {
   "cell_type": "markdown",
   "metadata": {},
   "source": [
    "# Using decision tree classifier algorithm"
   ]
  },
  {
   "cell_type": "code",
   "execution_count": 7,
   "metadata": {},
   "outputs": [],
   "source": [
    "from sklearn import tree\n",
    "\n",
    "clf_2 = tree.DecisionTreeClassifier(min_samples_split=2)\n",
    "\n",
    "clf_2.fit(x_train, y_train)\n",
    "\n",
    "pred_2 = clf_2.predict(x_test)"
   ]
  },
  {
   "cell_type": "code",
   "execution_count": 8,
   "metadata": {},
   "outputs": [
    {
     "data": {
      "text/plain": [
       "array([3, 3, 3, 3, 4, 2, 1, 3, 4, 3, 3, 4, 1, 4, 3, 1, 2, 3, 1, 4, 1, 4,\n",
       "       1, 1, 3, 1, 4, 4, 4, 3, 1, 1, 4, 3, 2, 1, 3, 1, 1, 1, 3, 4, 2, 1,\n",
       "       4, 4, 4], dtype=int64)"
      ]
     },
     "execution_count": 8,
     "metadata": {},
     "output_type": "execute_result"
    }
   ],
   "source": [
    "pred_train = clf_2.predict(x_train)\n",
    "pred_train"
   ]
  },
  {
   "cell_type": "markdown",
   "metadata": {},
   "source": [
    "# Checking accuracy"
   ]
  },
  {
   "cell_type": "code",
   "execution_count": 9,
   "metadata": {},
   "outputs": [
    {
     "name": "stdout",
     "output_type": "stream",
     "text": [
      "Accuracy of test data 0.75\n",
      "Accuracy on training data 1.0\n"
     ]
    }
   ],
   "source": [
    "from sklearn.metrics import confusion_matrix, precision_score, recall_score, accuracy_score\n",
    "print(\"Accuracy of test data\", accuracy_score(y_test, pred_2))\n",
    "print(\"Accuracy on training data\", accuracy_score(y_train, pred_train))"
   ]
  },
  {
   "cell_type": "markdown",
   "metadata": {},
   "source": [
    "Thus getting an accuracy of 1.0 i.e. 100% means the model is overfit."
   ]
  },
  {
   "cell_type": "markdown",
   "metadata": {},
   "source": [
    "# Using extended dataset to overcome overfitting"
   ]
  },
  {
   "cell_type": "code",
   "execution_count": 10,
   "metadata": {},
   "outputs": [
    {
     "data": {
      "text/html": [
       "<div>\n",
       "<style scoped>\n",
       "    .dataframe tbody tr th:only-of-type {\n",
       "        vertical-align: middle;\n",
       "    }\n",
       "\n",
       "    .dataframe tbody tr th {\n",
       "        vertical-align: top;\n",
       "    }\n",
       "\n",
       "    .dataframe thead th {\n",
       "        text-align: right;\n",
       "    }\n",
       "</style>\n",
       "<table border=\"1\" class=\"dataframe\">\n",
       "  <thead>\n",
       "    <tr style=\"text-align: right;\">\n",
       "      <th></th>\n",
       "      <th>fruit_label</th>\n",
       "      <th>fruit_name</th>\n",
       "      <th>fruit_subtype</th>\n",
       "      <th>mass</th>\n",
       "      <th>width</th>\n",
       "      <th>height</th>\n",
       "      <th>color_score</th>\n",
       "    </tr>\n",
       "  </thead>\n",
       "  <tbody>\n",
       "    <tr>\n",
       "      <th>0</th>\n",
       "      <td>1</td>\n",
       "      <td>apple</td>\n",
       "      <td>granny_smith</td>\n",
       "      <td>192</td>\n",
       "      <td>8.4</td>\n",
       "      <td>7.3</td>\n",
       "      <td>0.55</td>\n",
       "    </tr>\n",
       "    <tr>\n",
       "      <th>1</th>\n",
       "      <td>1</td>\n",
       "      <td>apple</td>\n",
       "      <td>granny_smith</td>\n",
       "      <td>180</td>\n",
       "      <td>8.0</td>\n",
       "      <td>6.8</td>\n",
       "      <td>0.59</td>\n",
       "    </tr>\n",
       "    <tr>\n",
       "      <th>2</th>\n",
       "      <td>1</td>\n",
       "      <td>apple</td>\n",
       "      <td>granny_smith</td>\n",
       "      <td>176</td>\n",
       "      <td>7.4</td>\n",
       "      <td>7.2</td>\n",
       "      <td>0.60</td>\n",
       "    </tr>\n",
       "    <tr>\n",
       "      <th>3</th>\n",
       "      <td>2</td>\n",
       "      <td>mandarin</td>\n",
       "      <td>mandarin</td>\n",
       "      <td>86</td>\n",
       "      <td>6.2</td>\n",
       "      <td>4.7</td>\n",
       "      <td>0.80</td>\n",
       "    </tr>\n",
       "    <tr>\n",
       "      <th>4</th>\n",
       "      <td>2</td>\n",
       "      <td>mandarin</td>\n",
       "      <td>mandarin</td>\n",
       "      <td>84</td>\n",
       "      <td>6.0</td>\n",
       "      <td>4.6</td>\n",
       "      <td>0.79</td>\n",
       "    </tr>\n",
       "  </tbody>\n",
       "</table>\n",
       "</div>"
      ],
      "text/plain": [
       "   fruit_label fruit_name fruit_subtype  mass  width  height  color_score\n",
       "0            1      apple  granny_smith   192    8.4     7.3         0.55\n",
       "1            1      apple  granny_smith   180    8.0     6.8         0.59\n",
       "2            1      apple  granny_smith   176    7.4     7.2         0.60\n",
       "3            2   mandarin      mandarin    86    6.2     4.7         0.80\n",
       "4            2   mandarin      mandarin    84    6.0     4.6         0.79"
      ]
     },
     "execution_count": 10,
     "metadata": {},
     "output_type": "execute_result"
    }
   ],
   "source": [
    "df = pd.read_csv ('fruit_new.csv')\n",
    "df.head()"
   ]
  },
  {
   "cell_type": "code",
   "execution_count": 11,
   "metadata": {},
   "outputs": [
    {
     "data": {
      "text/plain": [
       "(79, 7)"
      ]
     },
     "execution_count": 11,
     "metadata": {},
     "output_type": "execute_result"
    }
   ],
   "source": [
    "df.shape"
   ]
  },
  {
   "cell_type": "code",
   "execution_count": 12,
   "metadata": {},
   "outputs": [],
   "source": [
    "df.drop(['fruit_subtype'],axis = 1, inplace = True)"
   ]
  },
  {
   "cell_type": "code",
   "execution_count": 13,
   "metadata": {},
   "outputs": [
    {
     "name": "stdout",
     "output_type": "stream",
     "text": [
      "[[192.    8.4   7.3]\n",
      " [180.    8.    6.8]\n",
      " [176.    7.4   7.2]\n",
      " [ 86.    6.2   4.7]\n",
      " [ 84.    6.    4.6]\n",
      " [ 80.    5.8   4.3]\n",
      " [ 80.    5.9   4.3]\n",
      " [ 76.    5.8   4. ]\n",
      " [178.    7.1   7.8]\n",
      " [172.    7.4   7. ]\n",
      " [166.    6.9   7.3]\n",
      " [172.    7.1   7.6]\n",
      " [154.    7.    7.1]\n",
      " [164.    7.3   7.7]\n",
      " [152.    7.6   7.3]\n",
      " [156.    7.7   7.1]\n",
      " [156.    7.6   7.5]\n",
      " [168.    7.5   7.6]\n",
      " [162.    7.5   7.1]\n",
      " [162.    7.4   7.2]\n",
      " [160.    7.5   7.5]\n",
      " [156.    7.4   7.4]\n",
      " [140.    7.3   7.1]\n",
      " [170.    7.6   7.9]\n",
      " [342.    9.    9.4]\n",
      " [356.    9.2   9.2]\n",
      " [362.    9.6   9.2]\n",
      " [204.    7.5   9.2]\n",
      " [140.    6.7   7.1]\n",
      " [160.    7.    7.4]\n",
      " [158.    7.1   7.5]\n",
      " [210.    7.8   8. ]\n",
      " [164.    7.2   7. ]\n",
      " [190.    7.5   8.1]\n",
      " [142.    7.6   7.8]\n",
      " [150.    7.1   7.9]\n",
      " [160.    7.1   7.6]\n",
      " [154.    7.3   7.3]\n",
      " [158.    7.2   7.8]\n",
      " [144.    6.8   7.4]\n",
      " [154.    7.1   7.5]\n",
      " [180.    7.6   8.2]\n",
      " [154.    7.2   7.2]\n",
      " [194.    7.2  10.3]\n",
      " [200.    7.3  10.5]\n",
      " [186.    7.2   9.2]\n",
      " [216.    7.3  10.2]\n",
      " [196.    7.3   9.7]\n",
      " [174.    7.3  10.1]\n",
      " [132.    5.8   8.7]\n",
      " [130.    6.    8.2]\n",
      " [116.    6.    7.5]\n",
      " [118.    5.9   8. ]\n",
      " [120.    6.    8.4]\n",
      " [116.    6.1   8.5]\n",
      " [116.    6.3   7.7]\n",
      " [116.    5.9   8.1]\n",
      " [152.    6.5   8.5]\n",
      " [118.    6.1   8.1]\n",
      " [110.    7.    4.1]\n",
      " [112.    5.6   4. ]\n",
      " [117.    6.2   4.9]\n",
      " [101.    6.1   4.5]\n",
      " [ 89.    7.    4.3]\n",
      " [362.    9.6   9.2]\n",
      " [204.    7.5   9.2]\n",
      " [140.    6.7   7.1]\n",
      " [160.    7.    7.4]\n",
      " [158.    7.1   7.5]\n",
      " [210.    7.8   8. ]\n",
      " [164.    7.2   7. ]\n",
      " [178.    7.1   7.8]\n",
      " [172.    7.4   7. ]\n",
      " [166.    6.9   7.3]\n",
      " [172.    7.1   7.6]\n",
      " [154.    7.    7.1]\n",
      " [164.    7.3   7.7]\n",
      " [152.    7.6   7.3]\n",
      " [156.    7.7   7.1]]\n"
     ]
    },
    {
     "data": {
      "text/plain": [
       "array([1, 1, 1, 2, 2, 2, 2, 2, 1, 1, 1, 1, 1, 1, 1, 1, 1, 1, 1, 1, 1, 1,\n",
       "       1, 1, 3, 3, 3, 3, 3, 3, 3, 3, 3, 3, 3, 3, 3, 3, 3, 3, 3, 3, 3, 4,\n",
       "       4, 4, 4, 4, 4, 4, 4, 4, 4, 4, 4, 4, 4, 4, 4, 2, 2, 2, 2, 2, 3, 3,\n",
       "       3, 3, 3, 3, 3, 1, 1, 1, 1, 1, 1, 1, 1], dtype=int64)"
      ]
     },
     "execution_count": 13,
     "metadata": {},
     "output_type": "execute_result"
    }
   ],
   "source": [
    "x = df.iloc [:,2:5].values\n",
    "y = df.iloc [:,0].values\n",
    "print(x)\n",
    "y"
   ]
  },
  {
   "cell_type": "code",
   "execution_count": 14,
   "metadata": {},
   "outputs": [],
   "source": [
    "from sklearn.model_selection import train_test_split\n",
    "x_train, x_test, y_train, y_test = train_test_split (x, y, test_size = .20,\n",
    "                                                    random_state = 0)"
   ]
  },
  {
   "cell_type": "code",
   "execution_count": 15,
   "metadata": {},
   "outputs": [
    {
     "name": "stdout",
     "output_type": "stream",
     "text": [
      "X train shape (63, 3)\n",
      "Y train shape (63,)\n",
      "X test shape (16, 3)\n",
      "Y test shape (16,)\n"
     ]
    }
   ],
   "source": [
    "print(\"X train shape\", x_train.shape)\n",
    "print(\"Y train shape\", y_train.shape)\n",
    "print(\"X test shape\", x_test.shape)\n",
    "print(\"Y test shape\", y_test.shape)"
   ]
  },
  {
   "cell_type": "code",
   "execution_count": 16,
   "metadata": {},
   "outputs": [],
   "source": [
    "from sklearn import tree\n",
    "\n",
    "clf_2 = tree.DecisionTreeClassifier(min_samples_split=2)\n",
    "\n",
    "clf_2.fit(x_train, y_train)\n",
    "\n",
    "pred_2 = clf_2.predict(x_test)"
   ]
  },
  {
   "cell_type": "code",
   "execution_count": 17,
   "metadata": {},
   "outputs": [
    {
     "data": {
      "text/plain": [
       "array([2, 1, 2, 3, 3, 3, 3, 1, 4, 1, 2, 2, 2, 4, 1, 2, 3, 4, 3, 1, 4, 1,\n",
       "       1, 3, 4, 2, 1, 3, 3, 1, 4, 1, 3, 3, 3, 1, 1, 1, 1, 2, 3, 1, 4, 1,\n",
       "       1, 1, 1, 3, 3, 4, 3, 3, 4, 1, 3, 3, 1, 1, 1, 3, 3, 4, 4],\n",
       "      dtype=int64)"
      ]
     },
     "execution_count": 17,
     "metadata": {},
     "output_type": "execute_result"
    }
   ],
   "source": [
    "pred_train = clf_2.predict(x_train)\n",
    "pred_train"
   ]
  },
  {
   "cell_type": "code",
   "execution_count": 18,
   "metadata": {},
   "outputs": [
    {
     "name": "stdout",
     "output_type": "stream",
     "text": [
      "Accuracy of test data 0.8125\n",
      "Accuracy on training data 1.0\n"
     ]
    }
   ],
   "source": [
    "from sklearn.metrics import confusion_matrix, precision_score, recall_score, accuracy_score\n",
    "print(\"Accuracy of test data\", accuracy_score(y_test, pred_2))\n",
    "print(\"Accuracy on training data\", accuracy_score(y_train, pred_train))"
   ]
  },
  {
   "cell_type": "code",
   "execution_count": null,
   "metadata": {},
   "outputs": [],
   "source": []
  }
 ],
 "metadata": {
  "kernelspec": {
   "display_name": "Python 3",
   "language": "python",
   "name": "python3"
  },
  "language_info": {
   "codemirror_mode": {
    "name": "ipython",
    "version": 3
   },
   "file_extension": ".py",
   "mimetype": "text/x-python",
   "name": "python",
   "nbconvert_exporter": "python",
   "pygments_lexer": "ipython3",
   "version": "3.7.6"
  }
 },
 "nbformat": 4,
 "nbformat_minor": 4
}
